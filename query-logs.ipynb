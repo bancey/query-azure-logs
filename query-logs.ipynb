{
 "cells": [
  {
   "cell_type": "code",
   "execution_count": null,
   "id": "5ba65fea",
   "metadata": {},
   "outputs": [],
   "source": [
    "import json\n",
    "\n",
    "start_timestamp = \"2025-06-01T12:00:00Z\"\n",
    "end_timestamp = \"2025-06-01T13:00:00Z\"\n",
    "clientIp_filter = \"51.145.5.6\"\n",
    "\n",
    "jsonl_file = 'data/combined_filtered.jsonl'\n",
    "\n",
    "filtered_rows = []\n",
    "with open(jsonl_file, 'r', encoding='utf-8') as infile:\n",
    "    for line in infile:\n",
    "        obj = json.loads(line)\n",
    "        props = obj.get(\"properties\", {})\n",
    "        clientIp = props.get(\"clientIp\")\n",
    "        ts = obj.get(\"time\")\n",
    "        if clientIp == clientIp_filter and (ts and start_timestamp <= ts <= end_timestamp):\n",
    "            filtered_rows.append(obj)\n",
    "\n",
    "print(f\"Filtered {len(filtered_rows)} rows for client IP {clientIp_filter} between {start_timestamp} and {end_timestamp}\")"
   ]
  },
  {
   "cell_type": "code",
   "execution_count": null,
   "id": "b177f27e",
   "metadata": {},
   "outputs": [],
   "source": [
    "from collections import Counter\n",
    "\n",
    "request_uris = []\n",
    "\n",
    "for row in filtered_rows:\n",
    "    props = row.get(\"properties\", {})\n",
    "    request_uri = props.get(\"requestUri\", None)\n",
    "    result = props.get(\"httpStatusCode\", None)\n",
    "    if request_uri is not None:\n",
    "        request_uris.append(request_uri + f\" ({result})\")  # Append result to the URI for clarity\n",
    "\n",
    "# Count occurrences of each URI\n",
    "uri_counts = Counter(request_uris)\n",
    "\n",
    "# Print the distinct URIs and their counts\n",
    "print(\"Distinct request URIs and their counts:\")\n",
    "for uri, count in uri_counts.most_common():\n",
    "    print(f\"{uri}: {count}\")"
   ]
  },
  {
   "cell_type": "code",
   "execution_count": null,
   "id": "f5bcf553",
   "metadata": {},
   "outputs": [],
   "source": [
    "print(\"Sample of filtered data:\")\n",
    "for row in filtered_rows[:2]:  # Print first 2 rows as a sample\n",
    "    props = row.get(\"properties\", {})\n",
    "    print(json.dumps({\n",
    "        \"time\": row.get(\"time\"),\n",
    "        \"httpMethod\": props.get(\"httpMethod\"),\n",
    "        \"userAgent\": props.get(\"userAgent\"),\n",
    "        \"clientIp\": props.get(\"clientIp\"),\n",
    "        \"clientCountry\": props.get(\"clientCountry\"),\n",
    "        \"timeTaken\": props.get(\"timeTaken\"),\n",
    "        \"httpStatusCode\": props.get(\"httpStatusCode\")\n",
    "    }, indent=2))"
   ]
  }
 ],
 "metadata": {
  "kernelspec": {
   "display_name": ".venv (3.13.5)",
   "language": "python",
   "name": "python3"
  },
  "language_info": {
   "codemirror_mode": {
    "name": "ipython",
    "version": 3
   },
   "file_extension": ".py",
   "mimetype": "text/x-python",
   "name": "python",
   "nbconvert_exporter": "python",
   "pygments_lexer": "ipython3",
   "version": "3.13.5"
  }
 },
 "nbformat": 4,
 "nbformat_minor": 5
}
