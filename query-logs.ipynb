{
 "cells": [
  {
   "cell_type": "markdown",
   "id": "de7849d3",
   "metadata": {},
   "source": [
    "#### Run the cell below to set variables used across the notebook."
   ]
  },
  {
   "cell_type": "code",
   "execution_count": null,
   "id": "0f4dae7e",
   "metadata": {},
   "outputs": [],
   "source": [
    "jsonl_file = 'data/combined_filtered.jsonl'\n",
    "start_timestamp = \"2025-06-01T12:00:00Z\"\n",
    "end_timestamp = \"2025-06-01T18:00:00Z\"\n",
    "clientIp_filter = \"51.145.5.6\""
   ]
  },
  {
   "cell_type": "markdown",
   "id": "3f74803e",
   "metadata": {},
   "source": [
    "#### Run the cell below to load the data based on the start and end timestamps, and filter by client IP."
   ]
  },
  {
   "cell_type": "code",
   "execution_count": null,
   "id": "5ba65fea",
   "metadata": {},
   "outputs": [],
   "source": [
    "import json\n",
    "\n",
    "rows = []\n",
    "with open(jsonl_file, 'r', encoding='utf-8') as infile:\n",
    "    for line in infile:\n",
    "        obj = json.loads(line)\n",
    "        props = obj.get(\"properties\", {})\n",
    "        clientIp = props.get(\"clientIp\")\n",
    "        ts = obj.get(\"time\")\n",
    "        if clientIp == clientIp_filter and (ts and start_timestamp <= ts <= end_timestamp):\n",
    "            rows.append(obj)\n",
    "\n",
    "print(f\"Filtered {len(rows)} rows for client IP {clientIp_filter} between {start_timestamp} and {end_timestamp}\")"
   ]
  },
  {
   "cell_type": "markdown",
   "id": "1c4f5380",
   "metadata": {},
   "source": [
    "#### Run the cell below to load the whole dataset."
   ]
  },
  {
   "cell_type": "code",
   "execution_count": null,
   "id": "c223b319",
   "metadata": {},
   "outputs": [],
   "source": [
    "import json\n",
    "\n",
    "rows = []\n",
    "with open(jsonl_file, 'r', encoding='utf-8') as infile:\n",
    "    for line in infile:\n",
    "        rows.append(json.loads(line))\n",
    "\n",
    "print(f\"Loaded {len(rows)} rows from {jsonl_file}\")"
   ]
  },
  {
   "cell_type": "markdown",
   "id": "6766d7db",
   "metadata": {},
   "source": [
    "#### The cells below will process the data and output _hopefully_ useful information."
   ]
  },
  {
   "cell_type": "code",
   "execution_count": null,
   "id": "b177f27e",
   "metadata": {},
   "outputs": [],
   "source": [
    "from collections import Counter\n",
    "\n",
    "# Use a set comprehension to get distinct request URIs directly from the rows\n",
    "distinct_request_uris = {\n",
    "    row.get(\"properties\", {}).get(\"requestUri\") + f\" ({row.get('properties', {}).get('httpStatusCode')})\"\n",
    "    for row in rows\n",
    "    if row.get(\"properties\", {}).get(\"requestUri\") is not None\n",
    "}\n",
    "\n",
    "# Count occurrences of each URI using a generator expression\n",
    "uri_counts = Counter(\n",
    "    row.get(\"properties\", {}).get(\"requestUri\") + f\" ({row.get('properties', {}).get('httpStatusCode')})\"\n",
    "    for row in rows\n",
    "    if row.get(\"properties\", {}).get(\"requestUri\") is not None\n",
    ")\n",
    "\n",
    "# Print the number of distinct request URIs\n",
    "print(f\"Number of distinct request URIs: {len(distinct_request_uris)}\")\n",
    "\n",
    "# Print the distinct URIs and their counts\n",
    "print(\"Distinct request URIs and their counts:\")\n",
    "for uri, count in uri_counts.most_common():\n",
    "    print(f\"{uri}: {count}\")"
   ]
  },
  {
   "cell_type": "code",
   "execution_count": null,
   "id": "59771859",
   "metadata": {},
   "outputs": [],
   "source": [
    "from collections import Counter\n",
    "\n",
    "# Use a set comprehension to get distinct client IPs directly from the rows\n",
    "distinct_client_ips = {row.get(\"properties\", {}).get(\"clientIp\") for row in rows if row.get(\"properties\", {}).get(\"clientIp\") is not None}\n",
    "\n",
    "# Count occurrences of each Client IP using a generator expression\n",
    "clientIp_counts = Counter(row.get(\"properties\", {}).get(\"clientIp\") for row in rows if row.get(\"properties\", {}).get(\"clientIp\") is not None)\n",
    "\n",
    "# Print the number of distinct Client IPs\n",
    "print(f\"Number of distinct Client IPs: {len(distinct_client_ips)}\")\n",
    "\n",
    "# Print the distinct Client IPs and their counts\n",
    "print(\"Distinct Client IPs and their counts:\")\n",
    "for clientIp, count in clientIp_counts.most_common():\n",
    "    print(f\"{clientIp}: {count}\")"
   ]
  },
  {
   "cell_type": "code",
   "execution_count": null,
   "id": "09b3bfa6",
   "metadata": {},
   "outputs": [],
   "source": [
    "from collections import Counter\n",
    "\n",
    "# Use a set comprehension to get distinct user agents directly from the rows\n",
    "distinct_user_agent = {row.get(\"properties\", {}).get(\"userAgent\") for row in rows if row.get(\"properties\", {}).get(\"userAgent\") is not None}\n",
    "\n",
    "# Count occurrences of each User Agent using a generator expression\n",
    "userAgent_counts = Counter(row.get(\"properties\", {}).get(\"userAgent\") for row in rows if row.get(\"properties\", {}).get(\"userAgent\") is not None)\n",
    "\n",
    "# Print the number of distinct User Agents\n",
    "print(f\"Number of distinct User Agents: {len(distinct_user_agent)}\")\n",
    "\n",
    "# Print the distinct User Agents and their counts\n",
    "print(\"Distinct User Agents and their counts:\")\n",
    "for userAgent, count in userAgent_counts.most_common():\n",
    "    print(f\"{userAgent}: {count}\")"
   ]
  },
  {
   "cell_type": "code",
   "execution_count": null,
   "id": "f5bcf553",
   "metadata": {},
   "outputs": [],
   "source": [
    "print(\"Sample of filtered data:\")\n",
    "for row in rows[:2]:  # Print first 2 rows as a sample\n",
    "    props = row.get(\"properties\", {})\n",
    "    print(json.dumps({\n",
    "        \"time\": row.get(\"time\"),\n",
    "        \"httpMethod\": props.get(\"httpMethod\"),\n",
    "        \"userAgent\": props.get(\"userAgent\"),\n",
    "        \"clientIp\": props.get(\"clientIp\"),\n",
    "        \"clientCountry\": props.get(\"clientCountry\"),\n",
    "        \"timeTaken\": props.get(\"timeTaken\"),\n",
    "        \"httpStatusCode\": props.get(\"httpStatusCode\")\n",
    "    }, indent=2))"
   ]
  }
 ],
 "metadata": {
  "kernelspec": {
   "display_name": ".venv (3.13.5)",
   "language": "python",
   "name": "python3"
  },
  "language_info": {
   "codemirror_mode": {
    "name": "ipython",
    "version": 3
   },
   "file_extension": ".py",
   "mimetype": "text/x-python",
   "name": "python",
   "nbconvert_exporter": "python",
   "pygments_lexer": "ipython3",
   "version": "3.13.5"
  }
 },
 "nbformat": 4,
 "nbformat_minor": 5
}
