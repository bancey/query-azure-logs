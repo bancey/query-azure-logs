{
 "cells": [
  {
   "cell_type": "code",
   "execution_count": 1,
   "id": "5ba65fea",
   "metadata": {},
   "outputs": [
    {
     "name": "stdout",
     "output_type": "stream",
     "text": [
      "Filtered 793 rows for client IP 51.145.5.6 between 2025-06-01T12:00:00Z and 2025-06-01T13:00:00Z\n"
     ]
    }
   ],
   "source": [
    "import json\n",
    "\n",
    "start_timestamp = \"2025-06-01T12:00:00Z\"\n",
    "end_timestamp = \"2025-06-01T13:00:00Z\"\n",
    "clientIp_filter = \"51.145.5.6\"\n",
    "\n",
    "jsonl_file = 'data/combined.jsonl'\n",
    "\n",
    "filtered_rows = []\n",
    "with open(jsonl_file, 'r', encoding='utf-8') as infile:\n",
    "    for line in infile:\n",
    "        obj = json.loads(line)\n",
    "        props = obj.get(\"properties\", {})\n",
    "        clientIp = props.get(\"clientIp\")\n",
    "        ts = obj.get(\"time\")\n",
    "        if clientIp == clientIp_filter and (ts and start_timestamp <= ts <= end_timestamp):\n",
    "            filtered_rows.append(obj)\n",
    "\n",
    "print(f\"Filtered {len(filtered_rows)} rows for client IP {clientIp_filter} between {start_timestamp} and {end_timestamp}\")"
   ]
  },
  {
   "cell_type": "code",
   "execution_count": 18,
   "id": "b177f27e",
   "metadata": {},
   "outputs": [
    {
     "name": "stdout",
     "output_type": "stream",
     "text": [
      "Distinct request URIs and their counts:\n",
      "https://reply-jury-summons.service.gov.uk:443/assets/images/govuk-crest.svg (200): 3418\n",
      "https://reply-jury-summons.service.gov.uk:443/js/govuk/govuk-frontend.min.js (200): 1894\n",
      "https://reply-jury-summons.service.gov.uk:443/js/jquery.min.js (200): 1894\n",
      "https://reply-jury-summons.service.gov.uk:443/assets/fonts/bold-b542beb274-v2.woff2 (200): 1894\n",
      "https://reply-jury-summons.service.gov.uk:443/assets/fonts/light-94a07e06a1-v2.woff2 (200): 1894\n",
      "https://reply-jury-summons.service.gov.uk:443/ (200): 1893\n",
      "https://reply-jury-summons.service.gov.uk:443/js/cookies.js (200): 1893\n",
      "https://reply-jury-summons.service.gov.uk:443/js/html5shiv.min.js (200): 1893\n",
      "https://reply-jury-summons.service.gov.uk:443/js/respond.min.js (200): 1893\n",
      "https://reply-jury-summons.service.gov.uk:443/css/style.css (200): 1893\n",
      "https://reply-jury-summons.service.gov.uk:443/assets/images/favicon.ico (200): 1555\n",
      "https://reply-jury-summons.service.gov.uk:443/assets/rebrand/images/favicon.svg (200): 339\n"
     ]
    }
   ],
   "source": [
    "from collections import Counter\n",
    "\n",
    "request_uris = []\n",
    "\n",
    "for row in filtered_rows:\n",
    "    props = row.get(\"properties\", {})\n",
    "    request_uri = props.get(\"requestUri\", None)\n",
    "    result = props.get(\"httpStatusCode\", None)\n",
    "    if request_uri is not None:\n",
    "        request_uris.append(request_uri + f\" ({result})\")  # Append result to the URI for clarity\n",
    "\n",
    "# Count occurrences of each URI\n",
    "uri_counts = Counter(request_uris)\n",
    "\n",
    "# Print the distinct URIs and their counts\n",
    "print(\"Distinct request URIs and their counts:\")\n",
    "for uri, count in uri_counts.most_common():\n",
    "    print(f\"{uri}: {count}\")"
   ]
  },
  {
   "cell_type": "code",
   "execution_count": 7,
   "id": "f5bcf553",
   "metadata": {},
   "outputs": [
    {
     "name": "stdout",
     "output_type": "stream",
     "text": [
      "Sample of filtered data:\n",
      "{\n",
      "  \"time\": \"2025-06-01T12:00:01.0000000Z\",\n",
      "  \"httpMethod\": \"GET\",\n",
      "  \"userAgent\": \"Mozilla/5.0 (iPhone; CPU iPhone OS 18_5 like Mac OS X) AppleWebKit/605.1.15 (KHTML, like Gecko) Version/18.5 Mobile/15E148 Safari/604.1\",\n",
      "  \"clientIp\": \"86.147.16.207\",\n",
      "  \"clientCountry\": \"United Kingdom\",\n",
      "  \"timeTaken\": \"0.058\",\n",
      "  \"httpStatusCode\": \"200\"\n",
      "}\n",
      "{\n",
      "  \"time\": \"2025-06-01T12:00:01.0000000Z\",\n",
      "  \"httpMethod\": \"GET\",\n",
      "  \"userAgent\": \"Mozilla/5.0 (iPhone; CPU iPhone OS 18_5 like Mac OS X) AppleWebKit/605.1.15 (KHTML, like Gecko) Version/18.5 Mobile/15E148 Safari/604.1\",\n",
      "  \"clientIp\": \"86.147.16.207\",\n",
      "  \"clientCountry\": \"United Kingdom\",\n",
      "  \"timeTaken\": \"0.008\",\n",
      "  \"httpStatusCode\": \"200\"\n",
      "}\n"
     ]
    }
   ],
   "source": [
    "print(\"Sample of filtered data:\")\n",
    "for row in filtered_rows[:2]:  # Print first 2 rows as a sample\n",
    "    props = row.get(\"properties\", {})\n",
    "    print(json.dumps({\n",
    "        \"time\": row.get(\"time\"),\n",
    "        \"httpMethod\": props.get(\"httpMethod\"),\n",
    "        \"userAgent\": props.get(\"userAgent\"),\n",
    "        \"clientIp\": props.get(\"clientIp\"),\n",
    "        \"clientCountry\": props.get(\"clientCountry\"),\n",
    "        \"timeTaken\": props.get(\"timeTaken\"),\n",
    "        \"httpStatusCode\": props.get(\"httpStatusCode\")\n",
    "    }, indent=2))"
   ]
  }
 ],
 "metadata": {
  "kernelspec": {
   "display_name": ".venv (3.13.5)",
   "language": "python",
   "name": "python3"
  },
  "language_info": {
   "codemirror_mode": {
    "name": "ipython",
    "version": 3
   },
   "file_extension": ".py",
   "mimetype": "text/x-python",
   "name": "python",
   "nbconvert_exporter": "python",
   "pygments_lexer": "ipython3",
   "version": "3.13.5"
  }
 },
 "nbformat": 4,
 "nbformat_minor": 5
}
